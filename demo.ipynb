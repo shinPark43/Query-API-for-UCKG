{
 "cells": [
  {
   "cell_type": "markdown",
   "metadata": {},
   "source": [
    "# Section for utilizing the query API with Neo4j's built-in Bolt protocol."
   ]
  },
  {
   "cell_type": "code",
   "execution_count": 42,
   "metadata": {},
   "outputs": [
    {
     "data": {
      "text/html": [
       "<div>\n",
       "<style scoped>\n",
       "    .dataframe tbody tr th:only-of-type {\n",
       "        vertical-align: middle;\n",
       "    }\n",
       "\n",
       "    .dataframe tbody tr th {\n",
       "        vertical-align: top;\n",
       "    }\n",
       "\n",
       "    .dataframe thead th {\n",
       "        text-align: right;\n",
       "    }\n",
       "</style>\n",
       "<table border=\"1\" class=\"dataframe\">\n",
       "  <thead>\n",
       "    <tr style=\"text-align: right;\">\n",
       "      <th></th>\n",
       "      <th>labels(c)</th>\n",
       "      <th>Relationship</th>\n",
       "    </tr>\n",
       "  </thead>\n",
       "  <tbody>\n",
       "    <tr>\n",
       "      <th>0</th>\n",
       "      <td>[Resource, UcoCVE]</td>\n",
       "      <td>UCOEXHASCPE</td>\n",
       "    </tr>\n",
       "    <tr>\n",
       "      <th>1</th>\n",
       "      <td>[Resource, UcoCVE]</td>\n",
       "      <td>UCOEXHASCPE</td>\n",
       "    </tr>\n",
       "    <tr>\n",
       "      <th>2</th>\n",
       "      <td>[Resource, UcoCVE]</td>\n",
       "      <td>UCOEXHASCPE</td>\n",
       "    </tr>\n",
       "    <tr>\n",
       "      <th>3</th>\n",
       "      <td>[Resource, UcoCVE]</td>\n",
       "      <td>UCOEXHASCPE</td>\n",
       "    </tr>\n",
       "    <tr>\n",
       "      <th>4</th>\n",
       "      <td>[Resource, UcoCVE]</td>\n",
       "      <td>UCOEXHASCPE</td>\n",
       "    </tr>\n",
       "    <tr>\n",
       "      <th>...</th>\n",
       "      <td>...</td>\n",
       "      <td>...</td>\n",
       "    </tr>\n",
       "    <tr>\n",
       "      <th>28877</th>\n",
       "      <td>[Resource, UcoCVE]</td>\n",
       "      <td>UCOEXHASCPE</td>\n",
       "    </tr>\n",
       "    <tr>\n",
       "      <th>28878</th>\n",
       "      <td>[Resource, UcoCVE]</td>\n",
       "      <td>UCOEXHASCPE</td>\n",
       "    </tr>\n",
       "    <tr>\n",
       "      <th>28879</th>\n",
       "      <td>[Resource, UcoCVE]</td>\n",
       "      <td>UCOEXHASCPE</td>\n",
       "    </tr>\n",
       "    <tr>\n",
       "      <th>28880</th>\n",
       "      <td>[Resource, UcoCVE]</td>\n",
       "      <td>UCOEXHASCPE</td>\n",
       "    </tr>\n",
       "    <tr>\n",
       "      <th>28881</th>\n",
       "      <td>[Resource, UcoCVE]</td>\n",
       "      <td>UCOEXHASCPE</td>\n",
       "    </tr>\n",
       "  </tbody>\n",
       "</table>\n",
       "<p>28882 rows × 2 columns</p>\n",
       "</div>"
      ],
      "text/plain": [
       "                labels(c) Relationship\n",
       "0      [Resource, UcoCVE]  UCOEXHASCPE\n",
       "1      [Resource, UcoCVE]  UCOEXHASCPE\n",
       "2      [Resource, UcoCVE]  UCOEXHASCPE\n",
       "3      [Resource, UcoCVE]  UCOEXHASCPE\n",
       "4      [Resource, UcoCVE]  UCOEXHASCPE\n",
       "...                   ...          ...\n",
       "28877  [Resource, UcoCVE]  UCOEXHASCPE\n",
       "28878  [Resource, UcoCVE]  UCOEXHASCPE\n",
       "28879  [Resource, UcoCVE]  UCOEXHASCPE\n",
       "28880  [Resource, UcoCVE]  UCOEXHASCPE\n",
       "28881  [Resource, UcoCVE]  UCOEXHASCPE\n",
       "\n",
       "[28882 rows x 2 columns]"
      ]
     },
     "execution_count": 42,
     "metadata": {},
     "output_type": "execute_result"
    }
   ],
   "source": [
    "from neo4j import GraphDatabase\n",
    "import seaborn as sns\n",
    "import matplotlib.pyplot as plt\n",
    "import pandas as pd\n",
    "\n",
    "uri = \"bolt://localhost:7687\"       \n",
    "username = \"neo4j\"\n",
    "password = \"abcd90909090\"\n",
    "\n",
    "driver = GraphDatabase.driver(uri, auth=(username, password))\n",
    "\n",
    "def run_query(query, parameters=None):\n",
    "    with driver.session() as session:\n",
    "        result = session.run(query, parameters)\n",
    "        return [record.data() for record in result]\n",
    "\n",
    "\n",
    "query = \"\"\"\n",
    "MATCH (c:UcoCVE)-[r]->(target)\n",
    "RETURN labels(c), type(r) AS Relationship\n",
    "\"\"\"\n",
    "params = {}\n",
    "\n",
    "records = run_query(query, parameters=params)\n",
    "\n",
    "df = pd.DataFrame(records)\n",
    "\n",
    "df\n",
    "\n"
   ]
  },
  {
   "cell_type": "markdown",
   "metadata": {},
   "source": [
    "# Example of Exploring the Chosen Topic"
   ]
  },
  {
   "cell_type": "markdown",
   "metadata": {},
   "source": [
    "- Distribution of relationships emerging from UcoCVE"
   ]
  },
  {
   "cell_type": "code",
   "execution_count": 43,
   "metadata": {},
   "outputs": [
    {
     "data": {
      "image/png": "[encoded data removed]",
      "text/plain": [
       "<Figure size 800x800 with 1 Axes>"
      ]
     },
     "metadata": {},
     "output_type": "display_data"
    }
   ],
   "source": [
    "ax = df['Relationship'].value_counts().plot(kind = 'pie', autopct='%1.1f%%', labeldistance=1.1, figsize=(8,8))\n",
    "ax.set_ylabel('')\n",
    "plt.title('Distribution of Relationships that emerging from UcoCVE')\n",
    "plt.show()"
   ]
  },
  {
   "cell_type": "markdown",
   "metadata": {},
   "source": [
    "**Interpretation**\n",
    "- It has only one relationship that is goes out from UcoCVE"
   ]
  }
 ],
 "metadata": {
  "kernelspec": {
   "display_name": "venv",
   "language": "python",
   "name": "python3"
  },
  "language_info": {
   "codemirror_mode": {
    "name": "ipython",
    "version": 3
   },
   "file_extension": ".py",
   "mimetype": "text/x-python",
   "name": "python",
   "nbconvert_exporter": "python",
   "pygments_lexer": "ipython3",
   "version": "3.11.5"
  }
 },
 "nbformat": 4,
 "nbformat_minor": 2
}
